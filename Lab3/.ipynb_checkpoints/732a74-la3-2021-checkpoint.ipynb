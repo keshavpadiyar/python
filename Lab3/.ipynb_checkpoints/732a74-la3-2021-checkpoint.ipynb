{
 "cells": [
  {
   "cell_type": "markdown",
   "metadata": {},
   "source": [
    "# Lab 3: Functional programming, and declarative patterns\n"
   ]
  },
  {
   "cell_type": "markdown",
   "metadata": {},
   "source": [
    "__Student:__ kespa139 (Keshav Padiyar Manuru)\n",
    "\n",
    "__Student:__ aksgu350 (Akshay Gurudath)"
   ]
  },
  {
   "cell_type": "markdown",
   "metadata": {},
   "source": [
    "Disclaimer: Functional programming in Python does not always lead to the fastest possible code, and is often not considered the *pythonic* approach. However, functional programming is the basis for many concurrent systems (the MapReduce programming model which many big data systems, e.g. Hadoop, relies on gets its name from the *map* and *reduce* functions mentioned below). Python is a multi-paradigm language, and functional programming is one of the main paradigms one can use. To understand how and when to do this, it is necessary to do things in a non-*pythonic* way in order to cover the basics."
   ]
  },
  {
   "cell_type": "markdown",
   "metadata": {},
   "source": [
    "## General instructions\n",
    "\n",
    "In this lab there are some general rules you should keep in mind to make sure you are on the correct path in your solutions.\n",
    "\n",
    "#### Rules\n",
    "1. You are not allowed to use `while` or `for` statements unless this is explicitly allowed in the task.\n",
    "2. You are not allowed to use global variables (other than for functions defined in the global environment).\n",
    "3. Code stubs should be viewed as fixed, you are only allowed to add code, the only code you are allowed to change is `pass` statements, which you should remove.\n",
    "4. You should refrain from using the `list` datatype unless otherwise specified and instead use `tuple`. One of the strengths of functional programming is its focus on immutable data types (this is why functional programming and concurrency goes so well together). Incidentally, one might find speedups when using the immutable tuples instead of lists.\n",
    "\n",
    "#### Advice\n",
    "1. Avoid local variables unless you are certain they are necessary, in most cases you won't need to use local variables. (altermatively, use local variables to your hearts content, but when your solution works, try to eliminate them, you should be able to eliminate most of them, over time, you might find that you don't need them.)"
   ]
  },
  {
   "cell_type": "markdown",
   "metadata": {},
   "source": [
    "# 2 Recursion\n",
    "\n",
    "As an introduction to linear recursion, read the introductory note on the course webpage. This might help explain terms that you may not know (even if the concept is previously known)."
   ]
  },
  {
   "cell_type": "markdown",
   "metadata": {},
   "source": [
    "## 2.1 Linear recursion"
   ]
  },
  {
   "cell_type": "markdown",
   "metadata": {},
   "source": [
    "a) Write a recursive function `sum_even(n)` that takes a natural number $n\\geq 0$ and returns the sum of all even numbers $0,...,n$. It should be linear-recursive with delayed computations."
   ]
  },
  {
   "cell_type": "code",
   "execution_count": 1,
   "metadata": {},
   "outputs": [
    {
     "data": {
      "text/plain": [
       "30"
      ]
     },
     "execution_count": 1,
     "metadata": {},
     "output_type": "execute_result"
    }
   ],
   "source": [
    "def sum_even(n):\n",
    "    if n<=0:\n",
    "        return(0)\n",
    "    elif n%2==0 :\n",
    "         return(n+sum_even(n-2))\n",
    "    else:\n",
    "        return(sum_even(n-1))\n",
    "    \n",
    "sum_even(11)"
   ]
  },
  {
   "cell_type": "markdown",
   "metadata": {},
   "source": [
    "b) Write `sum_even_it(n)` according to the same specification. In this case, the solution should be tail recursive."
   ]
  },
  {
   "cell_type": "code",
   "execution_count": 2,
   "metadata": {},
   "outputs": [
    {
     "data": {
      "text/plain": [
       "30"
      ]
     },
     "execution_count": 2,
     "metadata": {},
     "output_type": "execute_result"
    }
   ],
   "source": [
    "# Your code here.\n",
    "def sum_even_it(n, cSum=0):\n",
    "    if n<=0:\n",
    "        return cSum\n",
    "    elif n%2==0 :\n",
    "         return(sum_even_it(n-2,cSum+n))\n",
    "    else:\n",
    "        return(sum_even_it(n-1,cSum))\n",
    "\n",
    "sum_even_it(11)"
   ]
  },
  {
   "cell_type": "markdown",
   "metadata": {},
   "source": [
    "c) We can of course express this in a declarative and Pythonic way, which is non-recursive. Write a function `sum_even_py` which returns the same result as above, but using a comprehension or filter/map/reduce construct."
   ]
  },
  {
   "cell_type": "code",
   "execution_count": 3,
   "metadata": {},
   "outputs": [
    {
     "data": {
      "text/plain": [
       "30"
      ]
     },
     "execution_count": 3,
     "metadata": {},
     "output_type": "execute_result"
    }
   ],
   "source": [
    "def sum_even_py(n):\n",
    "    return sum(map(lambda x:x if x%2==0 else 0, range(n+1)))\n",
    "\n",
    "sum_even_py(11)"
   ]
  },
  {
   "cell_type": "markdown",
   "metadata": {},
   "source": [
    "## 3 Higher order functions (HOF)\n",
    " \n",
    "A _higher-order function_ is a function which operates on other functions. What this means exactly is disputed, but we will call any function which returns a function or takes a function as an argument a higher-order function. (Conversely, a function neither taking another function as input nor returning a function we will refer to as a _first-order function_)\n",
    "\n",
    "In R you have encountered these when, for instance, using the `apply` family of functions, which are all versions of what is called a `map` function in functional programming (see below).\n",
    "\n",
    "When using higher-order functions, it is often useful to create simple anonymous functions at the place in the code where they are used, rather than defining a new named function in one place only to call it in a single other place. In R, all functions are created in this way with the `function` keyword, but they are usually assigned to global names with standard assignment (`<-`). Python provides similar functionality using the `lambda` keyword (name inspired by Alonzo Church's [$\\lambda$-calculus](https://www.youtube.com/watch?v=eis11j_iGMs) which has inspired much of functional programming) with which we can create anonymous functions. Of course, we can also pass named functions to higher-order functions, which is usually the case when the function is predefined, general enough to be used in more than one place, or complex enough to warrant separate definition and documentation for the sake of clarity."
   ]
  },
  {
   "cell_type": "markdown",
   "metadata": {},
   "source": [
    "## 3.1 The three standard functions `map`, `reduce` and `filter`\n",
    "\n",
    "There are three standard cases which are widely applicable and many other higher-order functions are special cases or combinations of these. They are: `map`, apply a function on each element in a sequence, `filter`, keep (or conversely, remove) elements from a sequence according to some condition, and `reduce`, combine the elements in a sequence. The `map` function takes a sequence and a function (usually of 1 parameter) which is to be applied to each element of the sequence and might return anything, this function is assumed not to have side effects. The `filter` function takes a function (usually of 1 parameter) which returns a boolean value used to indicate which elements are to be kept. The `reduce` function takes a function (usually of 2 parameters) which is used to combine the elements in the sequence.\n",
    "\n",
    "In Python, `map` and `filter` are standard built-in functions. Since Python 3, the `reduce` function needs to be imported from the `functools` module.\n",
    "\n",
    "Many more advanced functions, of any order, can be created by combining these three higher-order functions.\n",
    "\n",
    "A note from last year: usually, the `reduce` function is more difficult to grasp than `map` and `filter` but I found this blog-post by André Burgaud to be a nice introduction to `reduce`. Note that Burgaud talks about the more general _fold_ concept rather than `reduce`, which is a special case of fold often called _left fold_ (this is covered in more detail in the post). https://www.burgaud.com/foldl-foldr-python/"
   ]
  },
  {
   "cell_type": "markdown",
   "metadata": {},
   "source": [
    "a) Implement a function `mysum` which computes the sum of a list or tuple of numbers using the reduce function and a lambda function."
   ]
  },
  {
   "cell_type": "code",
   "execution_count": 4,
   "metadata": {},
   "outputs": [
    {
     "data": {
      "text/plain": [
       "12"
      ]
     },
     "execution_count": 4,
     "metadata": {},
     "output_type": "execute_result"
    }
   ],
   "source": [
    "from functools import reduce\n",
    "\n",
    "def mysum(seq):\n",
    "    return reduce(lambda x,y:x+y,seq)   # Replace the ???? with your code.\n",
    "\n",
    "mysum((4, 7, 1))"
   ]
  },
  {
   "cell_type": "markdown",
   "metadata": {},
   "source": [
    "b) Implement a function `mylength` which uses `map` and `reduce` (or only `reduce`, if you feel like it) to compute the length of a sequence. The use of the `len` function is not allowed.\n",
    "\n",
    "[Hint: You can use `map` to convert the input to something which can easily be `reduce`:d.]"
   ]
  },
  {
   "cell_type": "code",
   "execution_count": 5,
   "metadata": {},
   "outputs": [
    {
     "name": "stdout",
     "output_type": "stream",
     "text": [
      "5\n",
      "4\n"
     ]
    }
   ],
   "source": [
    "def mylength(seq):\n",
    "    return reduce(lambda x,y: x+y, map(lambda x:1,seq))\n",
    "    \n",
    "print(mylength((4, 2, 5, 2, 5)))\n",
    "print(mylength(\"test\"))"
   ]
  },
  {
   "cell_type": "markdown",
   "metadata": {},
   "source": [
    "## 3.2 Building your own higher order functions (HOF)"
   ]
  },
  {
   "cell_type": "markdown",
   "metadata": {},
   "source": [
    "a) Re-implement the three basic functional helper functions `map`, `filter` and `reduce` **as purely functional recursive functions**. You may not express this as eg comprehensions; the task is to practice figuring out this type of logic.\n",
    "\n",
    "Note that the built-in versions of these functions work on multiple sequences of equal length if supplied, however, you can assume a single sequence as second parameter, i.e. you can also skip the third parameter to reduce."
   ]
  },
  {
   "cell_type": "code",
   "execution_count": 32,
   "metadata": {},
   "outputs": [
    {
     "data": {
      "text/plain": [
       "(0, 1, 4, 9, 16, 25, 36, 49, 64, 81)"
      ]
     },
     "execution_count": 32,
     "metadata": {},
     "output_type": "execute_result"
    }
   ],
   "source": [
    "def mymap(f, seq):\n",
    "    n = len(seq)\n",
    "    sqr = (f(seq[-n]),)\n",
    "    n = n-1\n",
    "    if n>0:\n",
    "        return (sqr+mymap(f,seq[-n::]))\n",
    "    else:\n",
    "        return sqr\n",
    "\n",
    "mymap(lambda x:x**2, tuple(range(10)))  # Should return the tuple (0, 1, 4, 9, ..., 81)."
   ]
  },
  {
   "cell_type": "code",
   "execution_count": 33,
   "metadata": {},
   "outputs": [
    {
     "data": {
      "text/plain": [
       "(0, 2, 4, 6, 8)"
      ]
     },
     "execution_count": 33,
     "metadata": {},
     "output_type": "execute_result"
    }
   ],
   "source": [
    "def myfilter(f, seq, even=()):\n",
    "    n = len(seq)\n",
    "    if f(seq[-n]):\n",
    "        even = (seq[-n],)\n",
    "        n = n-1\n",
    "        return (even+myfilter(f, seq[-n::]))\n",
    "    elif n-1>0:\n",
    "        n = n-1\n",
    "        return(myfilter(f, seq[-n::]))\n",
    "    else:\n",
    "        return even  \n",
    "    \n",
    "\n",
    "myfilter(lambda x : x%2 == 0, tuple(range(10)))  # Should return the tuple of even numbers (0, 2, 4, 6, 8)"
   ]
  },
  {
   "cell_type": "markdown",
   "metadata": {},
   "source": [
    "You might note the similarities with how you implemented `sum_even`."
   ]
  },
  {
   "cell_type": "code",
   "execution_count": 34,
   "metadata": {},
   "outputs": [
    {
     "data": {
      "text/plain": [
       "24"
      ]
     },
     "execution_count": 34,
     "metadata": {},
     "output_type": "execute_result"
    }
   ],
   "source": [
    "def myreduce(f, seq):\n",
    "    n = len(seq)\n",
    "    mult = f(seq[-n],1)\n",
    "    n = n-1\n",
    "    if n>0:\n",
    "        return (mult*myreduce(f,seq[-n::]))\n",
    "    else:\n",
    "        return mult\n",
    "\n",
    "myreduce(lambda x, y: x*y, tuple(range(1,5)))  # Should return the number 1*2*3*4 = 24"
   ]
  },
  {
   "cell_type": "markdown",
   "metadata": {},
   "source": [
    "## 3.3 Returning functions\n",
    "\n",
    "The previous section covered functions which take other functions as input, but what about the opposite, functions returning functions as output?"
   ]
  },
  {
   "cell_type": "markdown",
   "metadata": {},
   "source": [
    "a) Function composition is a common in both maths and programming. Write a function `compose` which takes two functions, $f$ and $g$, and produces the _composite_ function $f \\circ g$, where $(f \\circ g)(x) \\Leftrightarrow f(g(x))$. Example use is given below."
   ]
  },
  {
   "cell_type": "code",
   "execution_count": 9,
   "metadata": {
    "scrolled": true
   },
   "outputs": [
    {
     "name": "stdout",
     "output_type": "stream",
     "text": [
      "[-1.507556722888818, -1.2060453783110545, -0.9045340337332909, -0.6030226891555273, -0.30151134457776363, 0.0, 0.30151134457776363, 0.6030226891555273, 0.9045340337332909, 1.2060453783110545, 1.507556722888818]\n"
     ]
    }
   ],
   "source": [
    "from statistics import stdev, mean\n",
    "\n",
    "def compose(f, g):\n",
    "    return lambda x:f(g(x))   # Replace this with your code.\n",
    "\n",
    "def myscale(vals):\n",
    "    return [x/stdev(vals) for x in vals]\n",
    "\n",
    "def myshift(vals):\n",
    "    return [x-mean(vals) for x in vals]\n",
    "\n",
    "standardize = compose(myscale, myshift)\n",
    "\n",
    "print(standardize(range(-3, 8)))"
   ]
  },
  {
   "cell_type": "markdown",
   "metadata": {},
   "source": [
    "**Voluntary task (not required)**\n",
    "Create a function `composition(*funs)` which takes a non-empty sequence of functions of one argument and returns their sequential composition. That is $composition(f_0,f_1, \\ldots, f_n) = f_0 \\circ f_1 \\circ\\ldots \\circ f_n$. (The question of if $f\\circ g \\circ h$ should be read $f\\circ (g\\circ h)$ or $(f \\circ g) \\circ h$ is perfectly valid, but they turn out to be the same. That is, $\\circ$ is associative.)"
   ]
  },
  {
   "cell_type": "code",
   "execution_count": 40,
   "metadata": {},
   "outputs": [
    {
     "name": "stdout",
     "output_type": "stream",
     "text": [
      "range(-3, 8)\n"
     ]
    },
    {
     "data": {
      "text/plain": [
       "range(-3, 8)"
      ]
     },
     "execution_count": 40,
     "metadata": {},
     "output_type": "execute_result"
    }
   ],
   "source": [
    "def composition(*funs):\n",
    "    return reduce(lambda f,g: compose(f,g), funs)"
   ]
  },
  {
   "cell_type": "markdown",
   "metadata": {},
   "source": [
    "Hint: Don't remember what can be found in `*funs`? Print it! Don't know how the values should be combined? Write out some simple example on paper."
   ]
  },
  {
   "cell_type": "markdown",
   "metadata": {},
   "source": [
    "Note: This task demonstrates the generality of our constructs. Previously we worked with sequences of numbers and the like. Now we lift this to the level of working with functions as values, and instead of using combinators which work on numbers, we use function combinators in conjunction with our known patterns."
   ]
  },
  {
   "cell_type": "markdown",
   "metadata": {},
   "source": [
    "### Voluntary task: pipelining\n",
    "\n",
    "When doing data analysis, one very important part is pre-processing. Often, data goes through a number of steps of preprocessing, sometimes called a pipeline. The function composition example above can be seen as a special case of such a pipeline for only two functions. By clever use of higher order functions, we can build a pipeline function which takes a list or tuple of data transforming functions and creates a function which applies these sequentially. Construct such a function called `make_pipeline`. In order to focus on the primary purpose of the `make_pipeline` function, we will perform a very simple set of transformations, increment each value by 1, take the absolute value, and then take the square root. Usage example and code for the `inc` function is supplied below.\n",
    "\n",
    "You may want to use functions you have defined above."
   ]
  },
  {
   "cell_type": "code",
   "execution_count": 41,
   "metadata": {
    "scrolled": false
   },
   "outputs": [
    {
     "name": "stdout",
     "output_type": "stream",
     "text": [
      "<built-in function sqrt> <built-in function abs> <function inc at 0x000002261836AE50>\n"
     ]
    },
    {
     "data": {
      "text/plain": [
       "(2.0,\n",
       " 1.7320508075688772,\n",
       " 1.4142135623730951,\n",
       " 1.0,\n",
       " 0.0,\n",
       " 1.0,\n",
       " 1.4142135623730951,\n",
       " 1.7320508075688772,\n",
       " 2.0,\n",
       " 2.23606797749979)"
      ]
     },
     "execution_count": 41,
     "metadata": {},
     "output_type": "execute_result"
    }
   ],
   "source": [
    "from functools import reduce, partial\n",
    "from math import sqrt \n",
    "\n",
    "\n",
    "def make_pipeline(*funs):\n",
    "    return lambda vals: map(composition(*funs[::-1]),vals)\n",
    "\n",
    "\n",
    "# We can even drop the lambda vals : bit, using partial\n",
    "# evaluation (see the help for functools.partial!)\n",
    "\n",
    "def inc(x):\n",
    "    return x+1\n",
    "\n",
    "pipeline = make_pipeline(inc, abs, sqrt)\n",
    "\n",
    "tuple(pipeline(range(-5,5)))"
   ]
  },
  {
   "cell_type": "markdown",
   "metadata": {},
   "source": [
    "## 4. Simple declarative Pythonic patterns (involving higher order functions)"
   ]
  },
  {
   "cell_type": "markdown",
   "metadata": {},
   "source": [
    "a) As preparation, create a named tuple type \"coord\" which has fields `x` and `y`."
   ]
  },
  {
   "cell_type": "code",
   "execution_count": 18,
   "metadata": {},
   "outputs": [],
   "source": [
    "# Add the requisite import statement here\n",
    "import collections as c\n",
    "coord = c.namedtuple('coord','x,y') # your code here\n",
    "\n",
    "five_three = coord(5,3)\n",
    "assert five_three.x == 5, \"first element is the x coordinate\"\n",
    "assert five_three.y == 3, \"the second element is the y coordinate\""
   ]
  },
  {
   "cell_type": "markdown",
   "metadata": {},
   "source": [
    "b) Generate a $10^7$ random coordinates, with $x$ and $y$ coordinates drawn uniformly from [-1000,1000]. Save the tuple of those with $x + y > 0$ as `rnd_coords`. How many are there (probably fewer than $10^7$)?"
   ]
  },
  {
   "cell_type": "code",
   "execution_count": 19,
   "metadata": {},
   "outputs": [],
   "source": [
    "from random import uniform\n",
    "from numpy.random import uniform\n",
    "#x = uniform(-1000,1000,10**7) # Your code here\n",
    "#y = uniform(-1000,1000,10**7) # Your code here\n",
    "\n",
    "x = uniform(-1000,1000,10**3) # Your code here\n",
    "y = uniform(-1000,1000,10**3) # Your code here"
   ]
  },
  {
   "cell_type": "code",
   "execution_count": 20,
   "metadata": {},
   "outputs": [
    {
     "data": {
      "text/plain": [
       "(coord(x=126.26853996923501, y=664.5704321327864),\n",
       " coord(x=345.10324579413805, y=469.6738379820879),\n",
       " coord(x=-386.02574477452606, y=976.9500579632197),\n",
       " coord(x=-347.50338431905425, y=434.3945598919747),\n",
       " coord(x=401.10031727870546, y=-248.44163749521147),\n",
       " coord(x=-635.4202611458386, y=799.3888359576824),\n",
       " coord(x=195.4310128699217, y=287.1114824908275),\n",
       " coord(x=895.2672098831033, y=-468.1215506529246),\n",
       " coord(x=407.2330707536148, y=722.7279388077075),\n",
       " coord(x=484.02275343051815, y=358.346274012717),\n",
       " coord(x=462.286960291465, y=185.23631993381127),\n",
       " coord(x=183.45080088053032, y=731.0478512963634),\n",
       " coord(x=796.0183913885489, y=645.0768287398553),\n",
       " coord(x=950.5648183752912, y=136.8384925066107),\n",
       " coord(x=509.1142911054219, y=-328.28435509218275),\n",
       " coord(x=420.9362166045564, y=-208.4428495398589),\n",
       " coord(x=331.4686782615588, y=26.69811800120192),\n",
       " coord(x=980.260473963479, y=265.328847590391),\n",
       " coord(x=-461.43042540042006, y=754.7302432135334),\n",
       " coord(x=-490.5204338489855, y=933.9831790917558),\n",
       " coord(x=492.2835903599155, y=654.1417919374471),\n",
       " coord(x=904.7106462911956, y=527.8806932856319),\n",
       " coord(x=87.36034910877743, y=173.1049311236511),\n",
       " coord(x=731.0131727729031, y=252.00460937317098),\n",
       " coord(x=721.8056742532478, y=-694.10914999764),\n",
       " coord(x=758.6611567742239, y=61.836498026668096),\n",
       " coord(x=-608.1401877583326, y=902.4287441595513),\n",
       " coord(x=612.3997846100381, y=-367.5721661121838),\n",
       " coord(x=263.6208341779002, y=-98.3737767415422),\n",
       " coord(x=912.9463200934945, y=-774.5731921559614),\n",
       " coord(x=761.2285605178979, y=-439.0823577249039),\n",
       " coord(x=452.40005381072865, y=932.1199672008938),\n",
       " coord(x=236.02911353932404, y=8.64973988834356),\n",
       " coord(x=-699.3938176592269, y=844.7258110635757),\n",
       " coord(x=-79.3825312023348, y=310.0459200220721),\n",
       " coord(x=364.3592834654096, y=-252.98921886423045),\n",
       " coord(x=916.2112168700439, y=-186.77423903199838),\n",
       " coord(x=894.483251557725, y=703.9741056052064),\n",
       " coord(x=-542.7439645673544, y=871.3978746750165),\n",
       " coord(x=937.5111770060578, y=1.381051616683635),\n",
       " coord(x=99.63274194994415, y=-16.590359886169836),\n",
       " coord(x=-12.174210513357593, y=202.77882292864842),\n",
       " coord(x=103.0753326366837, y=300.5608188153901),\n",
       " coord(x=599.3790327291094, y=597.4602125388021),\n",
       " coord(x=454.4477151689407, y=869.658279187272),\n",
       " coord(x=605.4830088812162, y=435.4915389065932),\n",
       " coord(x=218.56692361369687, y=611.9096645470536),\n",
       " coord(x=914.2459807975779, y=-869.7297832700906),\n",
       " coord(x=404.86979014138956, y=765.3001946240258),\n",
       " coord(x=-440.3723341393353, y=755.9890790031823),\n",
       " coord(x=480.2002581969591, y=885.0208019756242),\n",
       " coord(x=869.0000842031905, y=-374.5145484581784),\n",
       " coord(x=535.6695058984603, y=-513.1492905458854),\n",
       " coord(x=812.1878127431871, y=203.5773976658329),\n",
       " coord(x=-170.34696218948307, y=975.5953978720211),\n",
       " coord(x=760.5951474002768, y=-530.274758531376),\n",
       " coord(x=-494.42631728338074, y=923.413482526001),\n",
       " coord(x=-278.6297499100539, y=385.87206614908905),\n",
       " coord(x=82.18215993517401, y=998.2052648421322),\n",
       " coord(x=899.998688113174, y=-545.894334127722),\n",
       " coord(x=598.2329080790726, y=537.8052047656022),\n",
       " coord(x=-74.06840175601735, y=309.57952001237686),\n",
       " coord(x=-76.22975554943798, y=275.56831065194524),\n",
       " coord(x=446.7008388341992, y=-134.39544619546575),\n",
       " coord(x=893.3475909556958, y=259.9916669613083),\n",
       " coord(x=-84.49713740429354, y=692.4166367809391),\n",
       " coord(x=725.052183159398, y=-36.129021871622626),\n",
       " coord(x=-596.6530429830084, y=883.2176503676119),\n",
       " coord(x=-882.1074586900556, y=995.9229075949866),\n",
       " coord(x=275.3090441973568, y=868.4283943211083),\n",
       " coord(x=860.5723740554606, y=908.3241850078102),\n",
       " coord(x=438.5126330055173, y=107.32387322713339),\n",
       " coord(x=573.9369680777538, y=392.18338047690145),\n",
       " coord(x=736.3175843553997, y=738.9543456245597),\n",
       " coord(x=67.61025233530768, y=786.9487089944257),\n",
       " coord(x=894.7905460971194, y=-705.2193448086668),\n",
       " coord(x=84.19794078665723, y=-0.5346021014443068),\n",
       " coord(x=593.6629430466753, y=888.3515360475642),\n",
       " coord(x=-782.2951881522142, y=936.8449176929873),\n",
       " coord(x=-222.82226141179365, y=630.3789998481022),\n",
       " coord(x=809.906565034529, y=-98.02427104145806),\n",
       " coord(x=975.3129484631227, y=426.9023541894321),\n",
       " coord(x=922.2851580646216, y=3.0791229879039292),\n",
       " coord(x=315.4742895206889, y=334.45686581042605),\n",
       " coord(x=575.6314392166457, y=-94.64843733214195),\n",
       " coord(x=527.4946193258224, y=488.66968944576274),\n",
       " coord(x=162.23291690274846, y=202.12806320773598),\n",
       " coord(x=-1.7073898382775496, y=942.2885890713567),\n",
       " coord(x=108.0569466213874, y=-44.28406863811358),\n",
       " coord(x=328.88737824301097, y=800.5124879939367),\n",
       " coord(x=184.14576724819472, y=319.52596391250495),\n",
       " coord(x=738.2690769590922, y=87.93154460166693),\n",
       " coord(x=85.6056699671376, y=452.7032478047213),\n",
       " coord(x=114.19475219937817, y=136.46838579321093),\n",
       " coord(x=-36.98234688127138, y=562.186531841415),\n",
       " coord(x=-369.91526326831536, y=490.5514535610582),\n",
       " coord(x=-117.17195080750616, y=871.1150002691611),\n",
       " coord(x=-7.813440323795248, y=232.27351446837793),\n",
       " coord(x=866.9057065646359, y=250.5455024075393),\n",
       " coord(x=490.1385528385101, y=878.4642156179357),\n",
       " coord(x=681.5343169424957, y=730.5664691687668),\n",
       " coord(x=392.23962917109816, y=790.7549288454525),\n",
       " coord(x=356.5380351441124, y=761.3521860563858),\n",
       " coord(x=739.9301606156555, y=-285.47333250159386),\n",
       " coord(x=204.10012491189423, y=323.8699466329058),\n",
       " coord(x=403.14290078183944, y=371.3925154844744),\n",
       " coord(x=-491.75642251577847, y=551.4839303725753),\n",
       " coord(x=639.1976225769424, y=104.44276846220578),\n",
       " coord(x=158.25414880660583, y=556.6799125879577),\n",
       " coord(x=769.6455352520634, y=612.4233065178341),\n",
       " coord(x=145.79189030200655, y=706.7780227429723),\n",
       " coord(x=-344.9350352267239, y=623.4693295391862),\n",
       " coord(x=810.6814731983707, y=591.801672552052),\n",
       " coord(x=-180.5808890741722, y=728.5173441785173),\n",
       " coord(x=-88.3795503342169, y=315.6423175092384),\n",
       " coord(x=113.26554985211305, y=-57.57641974241267),\n",
       " coord(x=82.66653566038508, y=975.145343904798),\n",
       " coord(x=237.3776943011835, y=-132.62080027144066),\n",
       " coord(x=956.3380708016168, y=406.0039111467461),\n",
       " coord(x=-64.92958294474488, y=669.605320646488),\n",
       " coord(x=-128.40279099130908, y=856.5910843877507),\n",
       " coord(x=350.8953509526657, y=244.75938555183484),\n",
       " coord(x=659.2460650627993, y=-521.0503446318826),\n",
       " coord(x=-103.00131512465134, y=269.40260678815594),\n",
       " coord(x=978.2526677299898, y=-84.29464754489004),\n",
       " coord(x=289.89733480228256, y=-274.89044529137516),\n",
       " coord(x=808.2571029426213, y=855.9988070923182),\n",
       " coord(x=-97.83049413647143, y=216.23448383029245),\n",
       " coord(x=325.743697308259, y=533.7411303259237),\n",
       " coord(x=508.66934151438863, y=-187.61781822886417),\n",
       " coord(x=933.5145919467382, y=12.726328359405898),\n",
       " coord(x=717.5350924913662, y=828.7250218788276),\n",
       " coord(x=334.102630364177, y=42.33201696883043),\n",
       " coord(x=259.41344461291897, y=501.98505332963805),\n",
       " coord(x=772.8226161519665, y=591.2888310424532),\n",
       " coord(x=640.2897573515434, y=-60.58135950957694),\n",
       " coord(x=-54.623740913302186, y=67.3310818154066),\n",
       " coord(x=896.281021867482, y=812.2579867448226),\n",
       " coord(x=691.6714471661505, y=934.5477876620926),\n",
       " coord(x=-549.9142602289796, y=782.431831770323),\n",
       " coord(x=-568.4617977157347, y=829.3204350096278),\n",
       " coord(x=675.5140997744215, y=895.3363077263214),\n",
       " coord(x=173.83904071963343, y=306.77799087908693),\n",
       " coord(x=-555.8584680286043, y=806.6915201433396),\n",
       " coord(x=-325.984856125292, y=399.40792734305865),\n",
       " coord(x=-420.7604019361097, y=918.0190326975339),\n",
       " coord(x=288.03152943060104, y=834.8617487299321),\n",
       " coord(x=700.3983046964149, y=-642.1942217314499),\n",
       " coord(x=938.4494512803449, y=330.59709548919136),\n",
       " coord(x=-445.8645761767674, y=802.6795041686569),\n",
       " coord(x=935.8212701106331, y=654.3434534421367),\n",
       " coord(x=842.787464406477, y=57.98148267249144),\n",
       " coord(x=539.5162435470204, y=759.0814463153408),\n",
       " coord(x=244.331286086001, y=469.98358513365815),\n",
       " coord(x=798.8273640825932, y=-483.3356013367352),\n",
       " coord(x=186.28165021055906, y=650.5936579707541),\n",
       " coord(x=-632.0682041383974, y=860.096551770991),\n",
       " coord(x=523.4668681637445, y=443.0759084012543),\n",
       " coord(x=-664.8549773401024, y=974.6143535766421),\n",
       " coord(x=2.074296041756611, y=362.32414373368556),\n",
       " coord(x=594.4287496012455, y=489.33306909650173),\n",
       " coord(x=749.4649626350781, y=860.0732750175034),\n",
       " coord(x=-578.4203262585708, y=756.911606277803),\n",
       " coord(x=803.4979692088086, y=-409.98784746107253),\n",
       " coord(x=105.95718267961115, y=758.7317552941006),\n",
       " coord(x=70.62699916001475, y=453.15243284434496),\n",
       " coord(x=-328.60604393922483, y=628.6084275827413),\n",
       " coord(x=-471.4928858901617, y=868.637528941875),\n",
       " coord(x=104.05368001247257, y=429.4572670728073),\n",
       " coord(x=301.4537303691923, y=681.1834434877562),\n",
       " coord(x=-262.2497631674146, y=799.2894888596481),\n",
       " coord(x=514.4772878480946, y=-260.4513431259629),\n",
       " coord(x=143.05981066352456, y=767.9900610532266),\n",
       " coord(x=968.0885049076214, y=32.346828781404156),\n",
       " coord(x=915.1894026587606, y=954.8368269289444),\n",
       " coord(x=424.37889489653185, y=311.5371496439102),\n",
       " coord(x=-407.7086082052599, y=824.3640095487947),\n",
       " coord(x=-202.81844692299194, y=934.790348784486),\n",
       " coord(x=736.9070629309301, y=895.2796756967748),\n",
       " coord(x=759.9322202844648, y=-710.5190433839798),\n",
       " coord(x=-532.204033369811, y=647.7997154629666),\n",
       " coord(x=218.98359064056353, y=365.89815340827977),\n",
       " coord(x=133.57453873838108, y=-104.33418769394916),\n",
       " coord(x=940.8389044195962, y=-625.239845992321),\n",
       " coord(x=159.66012717469243, y=880.2129187679523),\n",
       " coord(x=694.0493070199254, y=-210.0408456578906),\n",
       " coord(x=230.0409337598203, y=930.0224886849367),\n",
       " coord(x=560.8522452641942, y=-383.5954421456238),\n",
       " coord(x=235.01977143642716, y=31.40112306494825),\n",
       " coord(x=914.5473912081568, y=-75.98780729796272),\n",
       " coord(x=559.744878961126, y=-176.7559607192885),\n",
       " coord(x=642.8879598812873, y=308.1649668396785),\n",
       " coord(x=446.7198406483176, y=329.0505609099614),\n",
       " coord(x=151.45827998100776, y=683.4904497310076),\n",
       " coord(x=668.9405729048924, y=-460.1267181099354),\n",
       " coord(x=338.95115019223704, y=779.6029824739835),\n",
       " coord(x=-10.034984432363899, y=96.1036509632745),\n",
       " coord(x=675.3404428556903, y=602.3285106937146),\n",
       " coord(x=392.1777984784119, y=885.8170987418457),\n",
       " coord(x=-612.5412589952059, y=897.9555325014085),\n",
       " coord(x=-531.0800060985166, y=931.6411217629848),\n",
       " coord(x=835.1828851118578, y=475.9970566575482),\n",
       " coord(x=781.1655986394101, y=-21.263619190392546),\n",
       " coord(x=827.0738932102395, y=288.360214235129),\n",
       " coord(x=19.598949221862426, y=50.20385614277757),\n",
       " coord(x=-327.8797114236984, y=757.3316283173767),\n",
       " coord(x=253.22467300231438, y=-164.35291057418567),\n",
       " coord(x=297.9285461313575, y=-117.23491806180357),\n",
       " coord(x=941.4722774063248, y=-187.7945295856813),\n",
       " coord(x=-204.4909149519749, y=871.2744833253364),\n",
       " coord(x=-217.8295263521277, y=578.3195579754542),\n",
       " coord(x=769.1763852224619, y=-92.29796139203006),\n",
       " coord(x=99.50407532740451, y=755.7868444514847),\n",
       " coord(x=85.63444403880862, y=232.28125954488132),\n",
       " coord(x=221.80431882987864, y=144.97216951268797),\n",
       " coord(x=207.5839265712143, y=133.08775201312324),\n",
       " coord(x=-196.25479975199278, y=807.6828850249685),\n",
       " coord(x=-275.33082804274886, y=481.5394277092671),\n",
       " coord(x=-650.260480928575, y=659.9379487700305),\n",
       " coord(x=712.4185737954895, y=202.22231245720445),\n",
       " coord(x=178.71254135308095, y=632.4559083724839),\n",
       " coord(x=858.6207883788557, y=-820.4072845034157),\n",
       " coord(x=928.1466749687324, y=-31.115705561486152),\n",
       " coord(x=141.26110617826862, y=570.1082924444079),\n",
       " coord(x=589.521945862225, y=43.05190971034381),\n",
       " coord(x=926.8937047507125, y=331.07534737369997),\n",
       " coord(x=710.7260297728872, y=955.9342575423113),\n",
       " coord(x=456.4058039720469, y=-30.362836176520204),\n",
       " coord(x=364.92873683954986, y=-227.99498319661905),\n",
       " coord(x=835.1424421074548, y=-820.8582779314854),\n",
       " coord(x=388.8660322055366, y=207.95545388945197),\n",
       " coord(x=587.779770229261, y=545.7059581140343),\n",
       " coord(x=-545.1770978718166, y=652.1205361538623),\n",
       " coord(x=775.5910103511126, y=-390.8559774100238),\n",
       " coord(x=957.7735253812084, y=353.57317901936244),\n",
       " coord(x=-582.0406278938408, y=755.5518929373072),\n",
       " coord(x=737.8264440386124, y=158.96312768414418),\n",
       " coord(x=-702.5835410561926, y=758.8057619317156),\n",
       " coord(x=-87.74707871951409, y=486.0452619741609),\n",
       " coord(x=759.4041130542516, y=775.0984465320851),\n",
       " coord(x=47.429283027676775, y=139.79744244766403),\n",
       " coord(x=818.004271541482, y=378.4047676980015),\n",
       " coord(x=551.8913701830534, y=198.53530017197772),\n",
       " coord(x=600.3725450511906, y=346.4207578335379),\n",
       " coord(x=887.1093404735034, y=-764.5149877239692),\n",
       " coord(x=483.12664722283375, y=538.0991451552607),\n",
       " coord(x=210.27640301231986, y=-183.499477912354),\n",
       " coord(x=554.3219169220524, y=761.3124767407826),\n",
       " coord(x=360.53965450454143, y=409.97568579638346),\n",
       " coord(x=709.7801913712399, y=-230.48200651306286),\n",
       " coord(x=471.6182741352966, y=181.84449913183175),\n",
       " coord(x=796.1543760991358, y=-71.83726440717385),\n",
       " coord(x=-445.87654244939824, y=586.0973951259491),\n",
       " coord(x=787.7889201084151, y=-96.84710386726442),\n",
       " coord(x=515.1763301301098, y=759.5644171787371),\n",
       " coord(x=397.38941650521474, y=913.1168085255772),\n",
       " coord(x=133.83219776214378, y=981.2361669386464),\n",
       " coord(x=-312.7537933513422, y=583.7920305624152),\n",
       " coord(x=785.0718045564645, y=-406.28398248942733),\n",
       " coord(x=895.4213620294126, y=-858.371179646245),\n",
       " coord(x=8.292434015338358, y=133.93604927013985),\n",
       " coord(x=685.671010761652, y=730.1887683006491),\n",
       " coord(x=634.734094701083, y=-207.60314846741483),\n",
       " coord(x=234.1046690887215, y=345.53142697307294),\n",
       " coord(x=243.7249758193468, y=991.8531463754521),\n",
       " coord(x=540.4544967655247, y=354.52790181357614),\n",
       " coord(x=779.3878471704677, y=-739.9696759448029),\n",
       " coord(x=363.6739155606076, y=-339.0063788944782),\n",
       " coord(x=688.7638039837427, y=810.5826096202961),\n",
       " coord(x=377.35135714646754, y=127.93300846194143),\n",
       " coord(x=985.960914467893, y=222.20608618928873),\n",
       " coord(x=955.6071560220848, y=825.7392694597315),\n",
       " coord(x=-824.885927285846, y=854.6913454447495),\n",
       " coord(x=787.6365124010024, y=-475.5961766049395),\n",
       " coord(x=990.9312624993279, y=-918.7452208408636),\n",
       " coord(x=342.81197706277476, y=462.4718202419235),\n",
       " coord(x=593.152312546945, y=-502.2965312024139),\n",
       " coord(x=573.545005249339, y=-201.54716556561073),\n",
       " coord(x=154.84932041843035, y=-76.21456095633471),\n",
       " coord(x=96.54567656839049, y=-89.06648483835465),\n",
       " coord(x=877.3846318191765, y=42.06768254886356),\n",
       " coord(x=750.0954231934147, y=303.04115659366835),\n",
       " coord(x=-768.1301804318446, y=970.4448965948268),\n",
       " coord(x=567.4707669447666, y=73.19621558249241),\n",
       " coord(x=-67.27132688691984, y=985.9207366918422),\n",
       " coord(x=249.88137890485632, y=172.73272576873092),\n",
       " coord(x=-692.1674244302747, y=925.9008172153283),\n",
       " coord(x=542.9920712600319, y=600.6221477800386),\n",
       " coord(x=840.7843282030256, y=-183.61697959053492),\n",
       " coord(x=366.65023951842386, y=918.8728195077322),\n",
       " coord(x=895.3233828374691, y=-846.816973939272),\n",
       " coord(x=540.5666345652187, y=838.1821962001854),\n",
       " coord(x=-271.4231724216179, y=523.4533905436472),\n",
       " coord(x=165.67174113858482, y=943.8625121110822),\n",
       " coord(x=883.2963213039936, y=-5.305059120228407),\n",
       " coord(x=-210.89620615741705, y=419.3980650750593),\n",
       " coord(x=-855.3150475810578, y=942.4947101493651),\n",
       " coord(x=655.6822395521292, y=-105.8706565363143),\n",
       " coord(x=-682.4865153976016, y=812.1138393670581),\n",
       " coord(x=702.8748279783958, y=-1.7178545855094853),\n",
       " coord(x=751.0446557671949, y=-402.1889099532758),\n",
       " coord(x=598.2520492798619, y=691.983371182376),\n",
       " coord(x=276.28386429822785, y=508.1065629333266),\n",
       " coord(x=-126.0069793090181, y=177.38196301504308),\n",
       " coord(x=537.5254061259748, y=360.82426120598393),\n",
       " coord(x=652.9036218722993, y=142.41651933112507),\n",
       " coord(x=799.3254993965522, y=530.2435488590841),\n",
       " coord(x=437.61754479718024, y=507.6742461387121),\n",
       " coord(x=399.52629905856816, y=-255.26582029649353),\n",
       " coord(x=384.0543153735457, y=998.8902330324634),\n",
       " coord(x=-471.2206653909723, y=649.1069902888178),\n",
       " coord(x=930.12966400604, y=-171.92089724496623),\n",
       " coord(x=500.7332667115095, y=221.59792361642872),\n",
       " coord(x=-311.3698463133438, y=740.4608857516612),\n",
       " coord(x=582.7866873254629, y=783.2237258437619),\n",
       " coord(x=799.5695548857216, y=256.6489252338308),\n",
       " coord(x=41.85073183723625, y=420.7954503794829),\n",
       " coord(x=-408.1497129130498, y=973.3093888305875),\n",
       " coord(x=706.2722554927266, y=288.8475249510136),\n",
       " coord(x=122.41637449518043, y=220.58155025735778),\n",
       " coord(x=576.8136727885314, y=-103.5561191627985),\n",
       " coord(x=945.1166452163479, y=399.2817679844861),\n",
       " coord(x=800.3514364313253, y=990.0497508323206),\n",
       " coord(x=-556.3622420889744, y=958.112720059529),\n",
       " coord(x=858.1761795547025, y=-434.4701267400326),\n",
       " coord(x=486.13527199661166, y=19.688198367662494),\n",
       " coord(x=323.7497437042882, y=192.5794163851715),\n",
       " coord(x=856.0010082239637, y=-210.4838970612351),\n",
       " coord(x=573.7638336600255, y=21.280499078414778),\n",
       " coord(x=544.0183060312645, y=46.36840207068303),\n",
       " coord(x=412.7569671363872, y=10.365053064197468),\n",
       " coord(x=363.3343049217549, y=784.5552025930285),\n",
       " coord(x=290.5323964032409, y=979.9395141211689),\n",
       " coord(x=353.89588896192913, y=437.9014950146559),\n",
       " coord(x=949.3995706216454, y=-864.6564220846371),\n",
       " coord(x=518.6818261124636, y=424.2470492085024),\n",
       " coord(x=956.2658642834961, y=-690.8246674451482),\n",
       " coord(x=839.4097678588462, y=-344.4534517162077),\n",
       " coord(x=679.7986657037188, y=-36.73952708182799),\n",
       " coord(x=-74.50480057553239, y=906.8697041989226),\n",
       " coord(x=623.5925413877717, y=690.9655550006737),\n",
       " coord(x=337.16300678748576, y=850.24387810536),\n",
       " coord(x=568.6541850216529, y=968.6976113129654),\n",
       " coord(x=863.2159228292599, y=-734.8115803228477),\n",
       " coord(x=23.193142771526595, y=565.7469486726013),\n",
       " coord(x=413.917690878121, y=327.69223704180285),\n",
       " coord(x=998.331461244582, y=274.89419582430514),\n",
       " coord(x=760.5334757575417, y=97.26403808013492),\n",
       " coord(x=-185.26277671560388, y=192.54048646304705),\n",
       " coord(x=656.0305399405706, y=247.1716110521636),\n",
       " coord(x=938.6546688477758, y=651.6961972898882),\n",
       " coord(x=199.30756258643896, y=630.7254202250658),\n",
       " coord(x=3.728356176747866, y=579.3193687975763),\n",
       " coord(x=807.9598100984381, y=980.9721775293049),\n",
       " coord(x=551.109657377245, y=335.6354733441235),\n",
       " coord(x=-280.49382029040123, y=803.6680408081102),\n",
       " coord(x=392.06876792141884, y=625.3087394892816),\n",
       " coord(x=708.8318955954196, y=471.9200902554469),\n",
       " coord(x=55.05325116722565, y=148.9451452848241),\n",
       " coord(x=-29.696037554333316, y=605.8376531116446),\n",
       " coord(x=806.2660918311196, y=-659.4737761228944),\n",
       " coord(x=768.4535603843201, y=-110.94524564599112),\n",
       " coord(x=918.505120833476, y=848.7360779859273),\n",
       " coord(x=-312.2738264165521, y=794.5350977202281),\n",
       " coord(x=804.9197035329564, y=746.9386153350449),\n",
       " coord(x=971.0321001091131, y=-678.9641413445295),\n",
       " coord(x=-147.70737603169607, y=311.75908662628876),\n",
       " coord(x=662.5214820105914, y=694.9990696889163),\n",
       " coord(x=450.0716969956652, y=-9.018643859000576),\n",
       " coord(x=68.2240117668448, y=442.61612386042157),\n",
       " coord(x=-62.26310033657785, y=426.9900032046355),\n",
       " coord(x=794.7341353074914, y=-456.0379496699935),\n",
       " coord(x=-159.23462894940576, y=972.0218542857403),\n",
       " coord(x=-210.7588711326771, y=611.1648672068884),\n",
       " coord(x=952.5141045892788, y=5.60753392318577),\n",
       " coord(x=520.4925331923982, y=872.6589260455273),\n",
       " coord(x=924.7064384835833, y=665.9852881895101),\n",
       " coord(x=908.4778537862835, y=-31.81681186619585),\n",
       " coord(x=766.636446214017, y=519.8229077176056),\n",
       " coord(x=-291.09535652390514, y=849.8198227919511),\n",
       " coord(x=-806.2548861533461, y=829.5630053102582),\n",
       " coord(x=933.7214739270271, y=407.69869063372994),\n",
       " coord(x=16.838483400320115, y=461.30767462067365),\n",
       " coord(x=803.2604349633377, y=604.4648624310073),\n",
       " coord(x=66.20495824245972, y=967.3194594770259),\n",
       " coord(x=586.0548706397894, y=388.48764662324265),\n",
       " coord(x=487.4303181940925, y=543.1644689178067),\n",
       " coord(x=584.4519522225701, y=731.4058384323641),\n",
       " coord(x=-32.668789424775696, y=71.25880394539672),\n",
       " coord(x=979.8004561701946, y=594.2377275121307),\n",
       " coord(x=987.2535009020933, y=-487.6400841947908),\n",
       " coord(x=-853.7400630703175, y=984.4538506702993),\n",
       " coord(x=636.5706290844034, y=397.4569598031653),\n",
       " coord(x=390.84178056561746, y=-276.4847318760267),\n",
       " coord(x=67.06915469669161, y=350.3535250863599),\n",
       " coord(x=74.91197076988283, y=246.43706541965798),\n",
       " coord(x=865.2661667735081, y=-298.95352027832917),\n",
       " coord(x=553.1325940020733, y=-281.3640330679965),\n",
       " coord(x=-90.02156019386143, y=574.1061793635224),\n",
       " coord(x=-340.2099405867623, y=523.7571401886785),\n",
       " coord(x=947.800997401037, y=989.8753291074897),\n",
       " coord(x=238.52842517181557, y=351.3002824945943),\n",
       " coord(x=818.945876832948, y=-552.3859731670906),\n",
       " coord(x=405.78730401850635, y=863.0261132482804),\n",
       " coord(x=747.4790098216572, y=461.7293120681243),\n",
       " coord(x=755.9368188998947, y=198.39819375063917),\n",
       " coord(x=405.7619382301634, y=857.2817670239056),\n",
       " coord(x=450.7145911435009, y=812.509977712504),\n",
       " coord(x=258.0982220054377, y=452.9975682122026),\n",
       " coord(x=-803.2428450007415, y=960.6387805806376),\n",
       " coord(x=133.2991725346251, y=-3.33780753693884),\n",
       " coord(x=278.4271494614293, y=-267.16189662813724),\n",
       " coord(x=655.3745507652823, y=865.7692053304183),\n",
       " coord(x=922.7143574788718, y=-610.686792820142),\n",
       " coord(x=-399.56026914236827, y=563.9487870229991),\n",
       " coord(x=319.5161047567867, y=628.727394178854),\n",
       " coord(x=961.7593740192458, y=848.9977615746359),\n",
       " coord(x=-561.0744792565607, y=645.6715518777551),\n",
       " coord(x=485.7094035598145, y=162.74343621455614),\n",
       " coord(x=-728.1701199177011, y=828.7124201009424),\n",
       " coord(x=171.99547593040438, y=675.4672265924848),\n",
       " coord(x=218.7640512803198, y=533.3065549767248),\n",
       " coord(x=103.87270709841437, y=819.6159288495958),\n",
       " coord(x=103.90428508366062, y=727.7909352683207),\n",
       " coord(x=-626.8269665008604, y=874.2423828871479),\n",
       " coord(x=324.15914107276694, y=430.3627620215934),\n",
       " coord(x=862.2934632510453, y=-595.7009598404875),\n",
       " coord(x=809.9941332511792, y=715.2151598729511),\n",
       " coord(x=-345.30832914895313, y=997.7197859249122),\n",
       " coord(x=-345.70176573883816, y=960.4790994016776),\n",
       " coord(x=777.9131470460081, y=421.7977549975694),\n",
       " coord(x=514.0771953233009, y=-306.2245660388145),\n",
       " coord(x=671.0341530191383, y=702.5972178843615),\n",
       " coord(x=735.546278322455, y=882.6138326852786),\n",
       " coord(x=-586.4917866919056, y=587.8289634490127),\n",
       " coord(x=333.3480760643906, y=339.07835665187486),\n",
       " coord(x=382.48258679503215, y=755.7904162405373),\n",
       " coord(x=829.1214845058066, y=376.4738154169547),\n",
       " coord(x=820.7783555758388, y=-366.8836831750501),\n",
       " coord(x=389.1546716164146, y=357.04737835668266),\n",
       " coord(x=621.470373395241, y=-350.184923157071),\n",
       " coord(x=675.7329911562163, y=763.8919194912048),\n",
       " coord(x=-175.168377359656, y=397.59989397671825),\n",
       " coord(x=57.557401404687425, y=340.87358064794626),\n",
       " coord(x=940.7801302813805, y=-327.1576636478726),\n",
       " coord(x=506.5969726447663, y=365.7888068489199),\n",
       " coord(x=49.76525933988796, y=546.662015750142),\n",
       " coord(x=-886.3746670077381, y=967.1872343688749),\n",
       " coord(x=341.5970330099101, y=433.30056204619723),\n",
       " coord(x=785.9698877063952, y=-366.6436740731782),\n",
       " coord(x=923.1837986293895, y=-251.12679669657132),\n",
       " coord(x=-648.8808046875733, y=924.1783591133089),\n",
       " coord(x=837.2256818284918, y=-795.7851851753647),\n",
       " coord(x=452.8168813731488, y=47.30880678624749),\n",
       " coord(x=120.47333346519144, y=698.3826839608873),\n",
       " coord(x=909.6168831630862, y=804.9877671060979),\n",
       " coord(x=706.5143586947097, y=893.6368636848795),\n",
       " coord(x=980.2881005658339, y=-317.8967258790577),\n",
       " coord(x=584.3023510708388, y=-281.4758177021828),\n",
       " coord(x=-189.35603938604356, y=414.7189811026924),\n",
       " coord(x=345.50311604905073, y=-320.5608317526187),\n",
       " coord(x=477.823992375256, y=166.99061944358755),\n",
       " coord(x=263.03220898285576, y=787.9625662443791),\n",
       " coord(x=144.50900006554502, y=-141.67195459807738),\n",
       " coord(x=390.3396938177982, y=702.9815381679991),\n",
       " coord(x=983.0713235189951, y=-906.9357557570445),\n",
       " coord(x=964.8928368668924, y=-77.33121828438789),\n",
       " coord(x=995.2910955633315, y=-835.4322218370331),\n",
       " coord(x=454.2064170203298, y=39.05353418782761),\n",
       " coord(x=-277.8536676797571, y=554.5703972339236),\n",
       " coord(x=590.9797895969996, y=608.315742764393),\n",
       " coord(x=-204.50833349042477, y=246.23741303340194),\n",
       " coord(x=-165.53942666196076, y=970.0115063263745),\n",
       " coord(x=357.9577174618123, y=358.48005819078276),\n",
       " coord(x=724.9462657084775, y=-266.126520095552),\n",
       " coord(x=-335.2320537561915, y=966.5558722275482),\n",
       " coord(x=735.1861741340329, y=373.1269489078934),\n",
       " coord(x=-147.21127523625137, y=865.2578604873852),\n",
       " coord(x=681.9093931589996, y=-461.5750136506798),\n",
       " coord(x=-151.73843025948247, y=735.142657888139),\n",
       " coord(x=-416.3661044029618, y=961.7902676596852),\n",
       " coord(x=518.9205733486092, y=-506.35399659971705),\n",
       " coord(x=215.60579382445485, y=963.8707577107443),\n",
       " coord(x=-878.2681546554287, y=975.3386979148881),\n",
       " coord(x=-428.4074135732234, y=618.8625857038799),\n",
       " coord(x=526.8719147978752, y=-422.2527489515106),\n",
       " coord(x=516.6764919996551, y=316.4295153554308),\n",
       " coord(x=500.5849732244269, y=817.4341695115902),\n",
       " coord(x=641.1740597318358, y=45.6429142214904),\n",
       " coord(x=-421.95417873057227, y=468.8216943725413),\n",
       " coord(x=498.34055038637257, y=557.4708443131394),\n",
       " coord(x=468.29702884031667, y=597.893233239165),\n",
       " coord(x=781.0184209266349, y=-139.19763771589544),\n",
       " coord(x=133.7680720978558, y=984.1919266499499),\n",
       " coord(x=189.48410865745063, y=462.89159931221275),\n",
       " coord(x=687.0227539018185, y=368.4120318469454),\n",
       " coord(x=-111.66993839840188, y=424.7695259588811),\n",
       " coord(x=210.52400478578556, y=571.5824874264015),\n",
       " coord(x=822.0841561862433, y=-287.05219006881896),\n",
       " coord(x=719.4238303147354, y=972.338871829026),\n",
       " coord(x=293.8286076195236, y=461.59562423741454),\n",
       " coord(x=138.1816002571229, y=12.100356134977915),\n",
       " coord(x=879.8316332164568, y=755.9587776816222))"
      ]
     },
     "execution_count": 20,
     "metadata": {},
     "output_type": "execute_result"
    }
   ],
   "source": [
    "rnd_coords = tuple(filter(lambda f: f is not None,\n",
    "                    map(lambda a,b:coord(a,b) if a+b>0 else None ,x,y)\n",
    "                        ))\n",
    "rnd_coords"
   ]
  },
  {
   "cell_type": "code",
   "execution_count": 21,
   "metadata": {},
   "outputs": [
    {
     "name": "stdout",
     "output_type": "stream",
     "text": [
      "Out of 10^7, 503 elements are left\n"
     ]
    }
   ],
   "source": [
    "print(\"Out of 10^7, {} elements are left\".format(len(rnd_coords)))"
   ]
  },
  {
   "cell_type": "markdown",
   "metadata": {},
   "source": [
    "[Note: If this takes a while, you might want to consider when the elements are generated and saved!]"
   ]
  },
  {
   "cell_type": "markdown",
   "metadata": {},
   "source": [
    "**Before having solved the tasks below, consider setting `coords` to a smaller set (eg generate $10^3$ elements instead of $10^7$ to start with).**"
   ]
  },
  {
   "cell_type": "markdown",
   "metadata": {},
   "source": [
    "c) Let `sorted_rnd` be the coordinated sorted first by the `x` component and then the `y`. Use a built-in Python sorting function. Do you need any extra parameters? Why? Why not? How would you find out where the order comes from (and might it be consistent but useless, eg sorting the elements by memory location)?"
   ]
  },
  {
   "cell_type": "code",
   "execution_count": 42,
   "metadata": {},
   "outputs": [
    {
     "name": "stdout",
     "output_type": "stream",
     "text": [
      "Sorted By X:[coord(x=-886.3746670077381, y=967.1872343688749), coord(x=-882.1074586900556, y=995.9229075949866), coord(x=-878.2681546554287, y=975.3386979148881), coord(x=-855.3150475810578, y=942.4947101493651), coord(x=-853.7400630703175, y=984.4538506702993), coord(x=-824.885927285846, y=854.6913454447495), coord(x=-806.2548861533461, y=829.5630053102582), coord(x=-803.2428450007415, y=960.6387805806376), coord(x=-782.2951881522142, y=936.8449176929873), coord(x=-768.1301804318446, y=970.4448965948268)]\n",
      "Sorted By Y:[coord(x=990.9312624993279, y=-918.7452208408636), coord(x=983.0713235189951, y=-906.9357557570445), coord(x=914.2459807975779, y=-869.7297832700906), coord(x=949.3995706216454, y=-864.6564220846371), coord(x=895.4213620294126, y=-858.371179646245), coord(x=895.3233828374691, y=-846.816973939272), coord(x=995.2910955633315, y=-835.4322218370331), coord(x=835.1424421074548, y=-820.8582779314854), coord(x=858.6207883788557, y=-820.4072845034157), coord(x=837.2256818284918, y=-795.7851851753647)]\n"
     ]
    }
   ],
   "source": [
    "from operator import itemgetter\n",
    "sorted_rnd = sorted(rnd_coords) # Sort by x\n",
    "print(\"Sorted By X:{}\".format(sorted_rnd[0:10]))\n",
    "sorted_rnd = sorted(rnd_coords , key=itemgetter(coord._fields.index('y')))# sort by y\n",
    "print(\"Sorted By Y:{}\".format(sorted_rnd[0:10]))\n",
    "\n",
    "# For sorting by x, we donot need any additional parameters, as by default the elements get sorted with respect to x\n",
    "# However, we need additional help - we used itemgetter function to sort by y."
   ]
  },
  {
   "cell_type": "markdown",
   "metadata": {},
   "source": [
    "[General words of advice:\n",
    "\n",
    "* During testing, you might want to use a smaller data set (and then try it out at a larger set).\n",
    "* You might not want to display the entire list to see if you're right all the time. Slicing out the first and last elements, say the first or last 10, might provide some hints.\n",
    "* You could naturally define a function which checks that the list is in order (or performs some probabilistic sampling test), to test this.]"
   ]
  },
  {
   "cell_type": "markdown",
   "metadata": {},
   "source": [
    "d) Sort the values (in the sense of returning a new sorted tuple) by their Euclidean distance to the point (5,3). Continue using a built-in Python sorting function."
   ]
  },
  {
   "cell_type": "code",
   "execution_count": 43,
   "metadata": {},
   "outputs": [
    {
     "data": {
      "text/plain": [
       "[coord(x=19.598949221862426, y=50.20385614277757),\n",
       " coord(x=-32.668789424775696, y=71.25880394539672),\n",
       " coord(x=84.19794078665723, y=-0.5346021014443068),\n",
       " coord(x=-54.623740913302186, y=67.3310818154066),\n",
       " coord(x=-10.034984432363899, y=96.1036509632745),\n",
       " coord(x=99.63274194994415, y=-16.590359886169836),\n",
       " coord(x=108.0569466213874, y=-44.28406863811358),\n",
       " coord(x=113.26554985211305, y=-57.57641974241267),\n",
       " coord(x=133.2991725346251, y=-3.33780753693884),\n",
       " coord(x=96.54567656839049, y=-89.06648483835465)]"
      ]
     },
     "execution_count": 43,
     "metadata": {},
     "output_type": "execute_result"
    }
   ],
   "source": [
    "from math import sqrt\n",
    "\n",
    "pts_near_53 = sorted(rnd_coords, key = lambda x:sqrt((x.x-5)**2 + (x.y-3)**2)) # Your code here\n",
    "\n",
    "pts_near_53[0:10]\n"
   ]
  },
  {
   "cell_type": "markdown",
   "metadata": {},
   "source": [
    "Note: here we customise the behaviour of a built-in function by passing it information about our intended ordering."
   ]
  },
  {
   "cell_type": "markdown",
   "metadata": {},
   "source": [
    "e) Define the function `sorted_by_distance(origo)` which takes a coordinate `origo` and returns a function which sorts the sequence by the euclidean distance to `origo`. (Ie those closest to origo come first in the list.)"
   ]
  },
  {
   "cell_type": "code",
   "execution_count": 24,
   "metadata": {},
   "outputs": [],
   "source": [
    "def sorted_by_distance(origo):\n",
    "    def distEuclidean (coords):\n",
    "        return sorted(coords, key = lambda x:sqrt((x.x-origo.x)**2 + (x.y-origo.y)**2))\n",
    "    return distEuclidean"
   ]
  },
  {
   "cell_type": "code",
   "execution_count": 25,
   "metadata": {},
   "outputs": [],
   "source": [
    "ordered_by_closeness_to_53 = sorted_by_distance(coord(5,3))   # Return the function."
   ]
  },
  {
   "cell_type": "code",
   "execution_count": 26,
   "metadata": {},
   "outputs": [],
   "source": [
    "pts_near_53_2 = ordered_by_closeness_to_53(rnd_coords)     # Applying the function "
   ]
  },
  {
   "cell_type": "code",
   "execution_count": 27,
   "metadata": {},
   "outputs": [],
   "source": [
    "assert pts_near_53 == pts_near_53_2"
   ]
  },
  {
   "cell_type": "markdown",
   "metadata": {},
   "source": [
    "[Note: Here we extend the work above to a higher-order function, which uses the local value of `origo`. In essence, this task summarises higher order functionality - we create a closure, return a function and use a custom ordering ]"
   ]
  },
  {
   "cell_type": "markdown",
   "metadata": {},
   "source": [
    "f) So far in the course, we have seen, and possibly used `enumerate`, `range`, `zip`, `map` and `filter` as declarative constructs (along with the general comprehension syntax). Now we introduce a further useful iterator construct. Construct something called `reverse_squared` which when prompted would give us the squares of elements 0,...,N _but in reverse_ (that is $N^2, (N-1)^2, ..., 2^2, 1^2, 0^2$). You may not give `range` a negative step length in this task (we are interested in more general ways of expressing that we want to iterate in another order, which in this and many cases will prove efficient)."
   ]
  },
  {
   "cell_type": "code",
   "execution_count": 28,
   "metadata": {},
   "outputs": [],
   "source": [
    "# The time it takes to run this shouldn't really depend on if you use SMALL_N or BIG_N.\n",
    "\n",
    "BIG_N = 99999999\n",
    "SMALL_N = 999\n",
    "\n",
    "N = SMALL_N    # change this to test later on\n",
    "\n",
    "reverse_squares = (n**2 for n in reversed(range(N+1))) # your code here"
   ]
  },
  {
   "cell_type": "code",
   "execution_count": 29,
   "metadata": {
    "scrolled": true
   },
   "outputs": [
    {
     "name": "stdout",
     "output_type": "stream",
     "text": [
      "Did we find it?  True\n",
      "         66 function calls in 0.016 seconds\n",
      "\n",
      "   Ordered by: standard name\n",
      "\n",
      "   ncalls  tottime  percall  cumtime  percall filename:lineno(function)\n",
      "        5    0.000    0.000    0.000    0.000 :0(acquire)\n",
      "        5    0.000    0.000    0.000    0.000 :0(append)\n",
      "        1    0.016    0.016    0.016    0.016 :0(exec)\n",
      "        4    0.000    0.000    0.000    0.000 :0(getpid)\n",
      "        4    0.000    0.000    0.000    0.000 :0(isinstance)\n",
      "        1    0.000    0.000    0.000    0.000 :0(print)\n",
      "        1    0.000    0.000    0.000    0.000 :0(setprofile)\n",
      "        1    0.000    0.000    0.000    0.000 <ipython-input-29-cbba4e888a59>:19(<genexpr>)\n",
      "        1    0.000    0.000    0.000    0.000 <string>:1(<module>)\n",
      "        5    0.000    0.000    0.000    0.000 iostream.py:197(schedule)\n",
      "        4    0.000    0.000    0.000    0.000 iostream.py:310(_is_master_process)\n",
      "        4    0.000    0.000    0.000    0.000 iostream.py:323(_schedule_flush)\n",
      "        4    0.000    0.000    0.000    0.000 iostream.py:386(write)\n",
      "        5    0.000    0.000    0.000    0.000 iostream.py:93(_event_pipe)\n",
      "        1    0.000    0.000    0.016    0.016 profile:0(print(f'Did we find it? ', N**2 in reverse_squares))\n",
      "        0    0.000             0.000          profile:0(profiler)\n",
      "        5    0.000    0.000    0.000    0.000 socket.py:357(send)\n",
      "        5    0.000    0.000    0.000    0.000 threading.py:1017(_wait_for_tstate_lock)\n",
      "        5    0.000    0.000    0.000    0.000 threading.py:1071(is_alive)\n",
      "        5    0.000    0.000    0.000    0.000 threading.py:513(is_set)\n",
      "\n",
      "\n"
     ]
    }
   ],
   "source": [
    "# Experimentation: copy and paste your code from above into this cell.\n",
    "# This is rather crude, but we want you to to be able to trust that any\n",
    "# slowness in the cell above can be found by reference to that code, not the\n",
    "# profiling code below.\n",
    "\n",
    "# Copy-pasting as it might be useful to have fresh maps.\n",
    "\n",
    "\n",
    "import profile\n",
    "\n",
    "# We cut and paste this code \n",
    "BIG_N = 99999999\n",
    "SMALL_N = 999\n",
    "\n",
    "N = SMALL_N    \n",
    "# Look at the run time. Switching from BIG_N to SMALL_N shouldn't really matter.\n",
    "# This suggests that we have quick access to elements at the end of our (squared) range.\n",
    "\n",
    "reverse_squares = (n**2 for n in reversed(range(N+1))) # <<----------- Your code from the cell above oes here.\n",
    "\n",
    "\n",
    "profile.run(\"print(f'Did we find it? ', N**2 in reverse_squares)\")"
   ]
  },
  {
   "cell_type": "markdown",
   "metadata": {},
   "source": [
    "Note: once you know of the construct, this task is extremely simple. It mostly serves as a demonstration of the availability of these constructs, and how they can be combined. Also, it points to efficiency considerations when using declarative iterator constructs as opposed to fixed computed structures.\n",
    "\n",
    "As the profiling code above suggests, where we redefine the object in every run, we do not have a purely functional construct. In that case, we wouldn't be able to exhaust the values."
   ]
  },
  {
   "cell_type": "markdown",
   "metadata": {},
   "source": [
    "[Additional reading: some additional tools are available in the `itertools` module.]"
   ]
  },
  {
   "cell_type": "markdown",
   "metadata": {},
   "source": [
    "## 5 Mutating function state\n",
    "\n",
    "A function always has access to the environment in which it was created. Usually, this means that the function can access global variables. It also means that it can access and modify local bindings from where it was created.\n",
    "\n",
    "A closure is a function which has access to an environment which is not accessible from outside the function (but which is not destroyed when the function returns). I.e. it is a way to introduce a small measure of statefulness into functional programming. In Python, iterators and generators work much like this. However, we can use the general concept in many cases."
   ]
  },
  {
   "cell_type": "markdown",
   "metadata": {},
   "source": [
    "a) Implement a function `make_counter` which has a single parameter `n` which acts as the initial value for a counter. The function should return a function with no parameters which, when called, increments the value of `n` by 1 and returns the new value."
   ]
  },
  {
   "cell_type": "code",
   "execution_count": 30,
   "metadata": {},
   "outputs": [
    {
     "name": "stdout",
     "output_type": "stream",
     "text": [
      "To show that the functions do not affect each others' states, consider the printout:\n",
      "counter_A returns: 1\n",
      "counter_A returns: 2\n",
      "counter_B returns: 16\n",
      "counter_A returns: 3 (was it affected by the call to counter_B?)\n"
     ]
    }
   ],
   "source": [
    "def make_counter(n):\n",
    "    def innerCounter():\n",
    "        nonlocal n\n",
    "        n+=1\n",
    "        return n\n",
    "    return innerCounter\n",
    "\n",
    "counter_A = make_counter(0)\n",
    "counter_B = make_counter(15)\n",
    "print(\"To show that the functions do not affect each others' states, consider the printout:\")\n",
    "print(f\"counter_A returns: {counter_A()}\")\n",
    "print(f\"counter_A returns: {counter_A()}\")\n",
    "print(f\"counter_B returns: {counter_B()}\")\n",
    "print(f\"counter_A returns: {counter_A()} (was it affected by the call to counter_B?)\") #no, it was not affected by counter B"
   ]
  },
  {
   "cell_type": "markdown",
   "metadata": {},
   "source": [
    "## Attribution\n",
    "\n",
    "Lab by Johan Falkenjack (2018), extended and rewritten by Anders Märak Leffler (2019).\n",
    "\n",
    "License [CC-BY-SA 4.0](https://creativecommons.org/licenses/by-sa/4.0/)"
   ]
  }
 ],
 "metadata": {
  "kernelspec": {
   "display_name": "Python 3",
   "language": "python",
   "name": "python3"
  },
  "language_info": {
   "codemirror_mode": {
    "name": "ipython",
    "version": 3
   },
   "file_extension": ".py",
   "mimetype": "text/x-python",
   "name": "python",
   "nbconvert_exporter": "python",
   "pygments_lexer": "ipython3",
   "version": "3.8.5"
  }
 },
 "nbformat": 4,
 "nbformat_minor": 2
}
